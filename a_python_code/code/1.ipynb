{
 "cells": [
  {
   "cell_type": "code",
   "execution_count": 1,
   "metadata": {
    "collapsed": true
   },
   "outputs": [],
   "source": [
    "from docx import Document\n",
    "from docx.shared import RGBColor\n",
    "\n",
    "def get_red_words(doc_path):\n",
    "    doc = Document(doc_path)\n",
    "    red_words = []\n",
    "    for para in doc.paragraphs:\n",
    "        for run in para.runs:\n",
    "            if run.font.color.rgb == RGBColor(255, 0, 0):\n",
    "                red_words.extend(run.text.split())\n",
    "    return red_words"
   ]
  },
  {
   "cell_type": "code",
   "execution_count": 2,
   "outputs": [
    {
     "data": {
      "text/plain": "['cetaceans-whales', 'reconstruct', 'embed', 'exciting']"
     },
     "execution_count": 2,
     "metadata": {},
     "output_type": "execute_result"
    }
   ],
   "source": [
    "red_words = get_red_words(\"The Origins of Cetaceans.docx\")\n",
    "red_words"
   ],
   "metadata": {
    "collapsed": false
   }
  },
  {
   "cell_type": "code",
   "execution_count": 3,
   "outputs": [],
   "source": [
    "import re\n",
    "import html\n",
    "from urllib import parse\n",
    "import requests\n",
    "\n",
    "GOOGLE_TRANSLATE_URL = 'http://translate.google.com/m?q=%s&tl=%s&sl=%s'\n",
    "\n",
    "def translate(text, to_language=\"zh-CN\", text_language=\"en\"):\n",
    "\n",
    "    text = parse.quote(text)\n",
    "    url = GOOGLE_TRANSLATE_URL % (text,to_language,text_language)\n",
    "    response = requests.get(url)\n",
    "    data = response.text\n",
    "    expr = r'(?s)class=\"(?:t0|result-container)\">(.*?)<'\n",
    "    result = re.findall(expr, data)\n",
    "    if (len(result) == 0):\n",
    "        return \"\"\n",
    "\n",
    "    return html.unescape(result[0])"
   ],
   "metadata": {
    "collapsed": false
   }
  },
  {
   "cell_type": "code",
   "execution_count": 4,
   "outputs": [
    {
     "name": "stdout",
     "output_type": "stream",
     "text": [
      "{'cetaceans-whales': '鲸类-鲸鱼', 'reconstruct': '重建', 'embed': '嵌入', 'exciting': '令人兴奋的'}\n"
     ]
    }
   ],
   "source": [
    "# 用于存放翻译结果的字典\n",
    "translations = {}\n",
    "\n",
    "for word in red_words:\n",
    "    # 调用 translate 方法进行翻译，源语言为英文('en')，目标语言为中文('zh-cn')\n",
    "    translation = translate(word)\n",
    "\n",
    "    # 将结果保存在字典中\n",
    "    translations[word] = translation\n",
    "\n",
    "print(translations)"
   ],
   "metadata": {
    "collapsed": false
   }
  },
  {
   "cell_type": "code",
   "execution_count": 5,
   "outputs": [],
   "source": [
    "# Define the function to add mapped string to red words\n",
    "def add_mapped_string_to_red_words(paragraph):\n",
    "    for run in paragraph.runs:\n",
    "        if run.font.color and isinstance(run.font.color.rgb, RGBColor):\n",
    "            color_value = run.font.color.rgb\n",
    "            if color_value == RGBColor(255, 0, 0):  # Check if the color is red\n",
    "                # Check if the word exists in the mapping dictionary\n",
    "                if run.text.lower() in translations:\n",
    "                    run.text = run.text + \"(\" + translations[run.text.lower()] + \")\"\n",
    "\n",
    "doc = Document(\"The Origins of Cetaceans.docx\")\n",
    "for paragraph in doc.paragraphs:\n",
    "    add_mapped_string_to_red_words(paragraph)"
   ],
   "metadata": {
    "collapsed": false
   }
  },
  {
   "cell_type": "code",
   "execution_count": 6,
   "outputs": [],
   "source": [
    "doc.save(\"1.docx\")"
   ],
   "metadata": {
    "collapsed": false
   }
  },
  {
   "cell_type": "code",
   "execution_count": 7,
   "outputs": [],
   "source": [
    "# 打开一个文件，如果不存在则创建\n",
    "with open('output.md', 'w', encoding='utf-8') as f:\n",
    "    # 写入markdown表格头\n",
    "    f.write('| English | Chinese |\\n')\n",
    "    f.write('|---------|---------|\\n')\n",
    "\n",
    "    # 遍历字典，写入每一行内容\n",
    "    for key, value in translations.items():\n",
    "        f.write(f'| {key} | {value} |\\n')"
   ],
   "metadata": {
    "collapsed": false
   }
  },
  {
   "cell_type": "code",
   "execution_count": 26,
   "outputs": [],
   "source": [
    "import pandas as pd\n",
    "\n",
    "# Load the data from the Excel file\n",
    "df = pd.read_excel(\"TOEFL.xlsx\")\n",
    "\n",
    "# Extract the words into a list\n",
    "words_list = df.iloc[:, 0].str.lower().tolist()\n"
   ],
   "metadata": {
    "collapsed": false
   }
  },
  {
   "cell_type": "code",
   "execution_count": 27,
   "outputs": [
    {
     "data": {
      "text/plain": "          Word Phonetic Transcription  \\\n0      abandon             [ə'bændən]   \n1      abashed               [ə'bæʃt]   \n2        abate               [ə'beit]   \n3     abdicate            [æbdi'keit]   \n4       abduct              [æb'dʌkt]   \n...        ...                    ...   \n4511     yield                [ji:ld]   \n4512    yogurt               ['jɔgət]   \n4513   zealous               ['zeləs]   \n4514      zinc                 [ziŋk]   \n4515      zone                 [zəun]   \n\n                                         Chinese  \n0                                 vt. 放弃,沉溺n. 放任  \n1     adj. 1 (在人前) 感觉羞愧的,局促不安的,困窘的; 2. [因…]局促不安的  \n2                    vt. 缓和,减弱,减少,废除vi. 缓和,减弱,减少  \n3                                   vt. 放弃vi. 逊位  \n4                                      vt. 诱拐,绑走  \n...                                          ...  \n4511                             v. 出产; n. 产量，收益  \n4512                                    n. 酸奶(酪)  \n4513                                      a. 狂热的  \n4514                                        n. 锌  \n4515                                    n. 地域，地带  \n\n[4516 rows x 3 columns]",
      "text/html": "<div>\n<style scoped>\n    .dataframe tbody tr th:only-of-type {\n        vertical-align: middle;\n    }\n\n    .dataframe tbody tr th {\n        vertical-align: top;\n    }\n\n    .dataframe thead th {\n        text-align: right;\n    }\n</style>\n<table border=\"1\" class=\"dataframe\">\n  <thead>\n    <tr style=\"text-align: right;\">\n      <th></th>\n      <th>Word</th>\n      <th>Phonetic Transcription</th>\n      <th>Chinese</th>\n    </tr>\n  </thead>\n  <tbody>\n    <tr>\n      <th>0</th>\n      <td>abandon</td>\n      <td>[ə'bændən]</td>\n      <td>vt. 放弃,沉溺n. 放任</td>\n    </tr>\n    <tr>\n      <th>1</th>\n      <td>abashed</td>\n      <td>[ə'bæʃt]</td>\n      <td>adj. 1 (在人前) 感觉羞愧的,局促不安的,困窘的; 2. [因…]局促不安的</td>\n    </tr>\n    <tr>\n      <th>2</th>\n      <td>abate</td>\n      <td>[ə'beit]</td>\n      <td>vt. 缓和,减弱,减少,废除vi. 缓和,减弱,减少</td>\n    </tr>\n    <tr>\n      <th>3</th>\n      <td>abdicate</td>\n      <td>[æbdi'keit]</td>\n      <td>vt. 放弃vi. 逊位</td>\n    </tr>\n    <tr>\n      <th>4</th>\n      <td>abduct</td>\n      <td>[æb'dʌkt]</td>\n      <td>vt. 诱拐,绑走</td>\n    </tr>\n    <tr>\n      <th>...</th>\n      <td>...</td>\n      <td>...</td>\n      <td>...</td>\n    </tr>\n    <tr>\n      <th>4511</th>\n      <td>yield</td>\n      <td>[ji:ld]</td>\n      <td>v. 出产; n. 产量，收益</td>\n    </tr>\n    <tr>\n      <th>4512</th>\n      <td>yogurt</td>\n      <td>['jɔgət]</td>\n      <td>n. 酸奶(酪)</td>\n    </tr>\n    <tr>\n      <th>4513</th>\n      <td>zealous</td>\n      <td>['zeləs]</td>\n      <td>a. 狂热的</td>\n    </tr>\n    <tr>\n      <th>4514</th>\n      <td>zinc</td>\n      <td>[ziŋk]</td>\n      <td>n. 锌</td>\n    </tr>\n    <tr>\n      <th>4515</th>\n      <td>zone</td>\n      <td>[zəun]</td>\n      <td>n. 地域，地带</td>\n    </tr>\n  </tbody>\n</table>\n<p>4516 rows × 3 columns</p>\n</div>"
     },
     "execution_count": 27,
     "metadata": {},
     "output_type": "execute_result"
    }
   ],
   "source": [
    "df"
   ],
   "metadata": {
    "collapsed": false
   }
  },
  {
   "cell_type": "code",
   "execution_count": 24,
   "outputs": [
    {
     "ename": "AttributeError",
     "evalue": "'DataFrame' object has no attribute 'dtype'",
     "output_type": "error",
     "traceback": [
      "\u001B[1;31m---------------------------------------------------------------------------\u001B[0m",
      "\u001B[1;31mAttributeError\u001B[0m                            Traceback (most recent call last)",
      "Cell \u001B[1;32mIn[24], line 1\u001B[0m\n\u001B[1;32m----> 1\u001B[0m \u001B[43mdf\u001B[49m\u001B[38;5;241;43m.\u001B[39;49m\u001B[43mdtype\u001B[49m\u001B[38;5;241m.\u001B[39mfields\n",
      "File \u001B[1;32mD:\\Program Files\\Python310\\lib\\site-packages\\pandas\\core\\generic.py:5902\u001B[0m, in \u001B[0;36mNDFrame.__getattr__\u001B[1;34m(self, name)\u001B[0m\n\u001B[0;32m   5895\u001B[0m \u001B[38;5;28;01mif\u001B[39;00m (\n\u001B[0;32m   5896\u001B[0m     name \u001B[38;5;129;01mnot\u001B[39;00m \u001B[38;5;129;01min\u001B[39;00m \u001B[38;5;28mself\u001B[39m\u001B[38;5;241m.\u001B[39m_internal_names_set\n\u001B[0;32m   5897\u001B[0m     \u001B[38;5;129;01mand\u001B[39;00m name \u001B[38;5;129;01mnot\u001B[39;00m \u001B[38;5;129;01min\u001B[39;00m \u001B[38;5;28mself\u001B[39m\u001B[38;5;241m.\u001B[39m_metadata\n\u001B[0;32m   5898\u001B[0m     \u001B[38;5;129;01mand\u001B[39;00m name \u001B[38;5;129;01mnot\u001B[39;00m \u001B[38;5;129;01min\u001B[39;00m \u001B[38;5;28mself\u001B[39m\u001B[38;5;241m.\u001B[39m_accessors\n\u001B[0;32m   5899\u001B[0m     \u001B[38;5;129;01mand\u001B[39;00m \u001B[38;5;28mself\u001B[39m\u001B[38;5;241m.\u001B[39m_info_axis\u001B[38;5;241m.\u001B[39m_can_hold_identifiers_and_holds_name(name)\n\u001B[0;32m   5900\u001B[0m ):\n\u001B[0;32m   5901\u001B[0m     \u001B[38;5;28;01mreturn\u001B[39;00m \u001B[38;5;28mself\u001B[39m[name]\n\u001B[1;32m-> 5902\u001B[0m \u001B[38;5;28;01mreturn\u001B[39;00m \u001B[38;5;28;43mobject\u001B[39;49m\u001B[38;5;241;43m.\u001B[39;49m\u001B[38;5;21;43m__getattribute__\u001B[39;49m\u001B[43m(\u001B[49m\u001B[38;5;28;43mself\u001B[39;49m\u001B[43m,\u001B[49m\u001B[43m \u001B[49m\u001B[43mname\u001B[49m\u001B[43m)\u001B[49m\n",
      "\u001B[1;31mAttributeError\u001B[0m: 'DataFrame' object has no attribute 'dtype'"
     ]
    }
   ],
   "source": [
    "df.dtype.fields"
   ],
   "metadata": {
    "collapsed": false
   }
  },
  {
   "cell_type": "code",
   "execution_count": 35,
   "outputs": [
    {
     "name": "stdout",
     "output_type": "stream",
     "text": [
      "['a. 明显的,明白的,显然的']\n",
      "['n. 缺席; 缺乏，不存在']\n",
      "['a. (成对的事物)后面的，在后的']\n",
      "['v. n. 掩饰; 伪装']\n",
      "['n. 陆地,地面,地界,土地,国土,地产vi. 登陆,登岸,到达vt. 使上岸,使']\n",
      "['n. 住处']\n",
      "['a. 功能的']\n",
      "['n. 陆地,地面,地界,土地,国土,地产vi. 登陆,登岸,到达vt. 使上岸,使']\n",
      "['a. 熄灭的,灭绝的,耗尽的']\n",
      "['n. 舰队,水兵,海运业a. 海的,海产的,海运的,船舶的,海底的']\n",
      "['n. 化石; a. 陈腐的; 化石的']\n",
      "['n. 缝隙,缺口,间断vt. 打开缺口,造成缝隙vi. 豁开n. 间距n. 通用']\n",
      "['n. 哺乳动物']\n",
      "['ad. 最近']\n",
      "['n. 陆地,地面,地界,土地,国土,地产vi. 登陆,登岸,到达vt. 使上岸,使']\n",
      "['n. 哺乳动物']\n",
      "['n. 化石; a. 陈腐的; 化石的']\n",
      "['n. 化石; a. 陈腐的; 化石的']\n",
      "['a. 古代的; 古老的']\n",
      "['n. 化石; a. 陈腐的; 化石的']\n",
      "['a. 完全的,熟练的,完成的vt. 完成,完工,使圆满']\n",
      "['n. 颅骨，头脑']\n",
      "['a. 熄灭的,灭绝的,耗尽的']\n",
      "['n. 化石; a. 陈腐的; 化石的']\n",
      "['a. 宝贵的,珍贵的,过于精致的,珍爱的']\n",
      "['n. 颅骨，头脑']\n",
      "['n. 空地; 空间; 太空; v. 隔开']\n",
      "['v. 似乎; a. 可靠的; 健康的; 合理的']\n",
      "['v. 似乎; a. 可靠的; 健康的; 合理的']\n",
      "['n. 陆地,地面,地界,土地,国土,地产vi. 登陆,登岸,到达vt. 使上岸,使']\n",
      "['n. 颅骨，头脑']\n",
      "['n. 改编,适应,改编成的作品']\n",
      "['a. 熄灭的,灭绝的,耗尽的']\n",
      "['a. 浅的']\n",
      "['n. 主修课,成年人,陆军少校a. 主要的,较多的,严重的,成年的vi. 主修']\n",
      "['n. 沙漠a. 沙漠的,不毛的vt. 放弃,遗弃,逃跑vi. 逃掉n. 应得的赏']\n",
      "['a. 完全的,熟练的,完成的vt. 完成,完工,使圆满']\n",
      "['a. (成对的事物)后面的，在后的']\n",
      "['a. 很少的,微小的']\n",
      "['n. 舰队,水兵,海运业a. 海的,海产的,海运的,船舶的,海底的']\n",
      "['a. (成对的事物)后面的，在后的']\n",
      "['a. 平坦的,偶数的,相等的,均匀的,连贯的,均等的,公平的,荹玫?平静的,']\n",
      "['a. 熄灭的,灭绝的,耗尽的']\n",
      "['n. 化石; a. 陈腐的; 化石的']\n",
      "['n. 部分,一份,命运,嫁妆vt. 将. . . 分配,分配,给. . . 嫁妆']\n",
      "['a. (成对的事物)后面的，在后的']\n",
      "['a. 长的,长久的,冗长的,做多头的vi. 渴望,热望,极想ad. 长久,始终n.']\n",
      "['a. 功能的']\n",
      "['n. 陆地,地面,地界,土地,国土,地产vi. 登陆,登岸,到达vt. 使上岸,使']\n",
      "['n. 主修课,成年人,陆军少校a. 主要的,较多的,严重的,成年的vi. 主修']\n",
      "['n. 方法,手段,收入,财产,工具']\n",
      "['n. 移动; 运动']\n",
      "['n. 后部; 臀部; v. 养育; 饲养']\n",
      "['n. 部分,一份,命运,嫁妆vt. 将. . . 分配,分配,给. . . 嫁妆']\n",
      "['a. 平坦的,偶数的,相等的,均匀的,连贯的,均等的,公平的,荹玫?平静的,']\n",
      "['a. (成对的事物)后面的，在后的']\n",
      "['n. 陆地,地面,地界,土地,国土,地产vi. 登陆,登岸,到达vt. 使上岸,使']\n",
      "['vt. 构成,组成,任命']\n"
     ]
    },
    {
     "data": {
      "text/plain": "{'obvious': 'a. 明显的,明白的,显然的',\n 'absence': 'n. 缺席; 缺乏，不存在',\n 'hind': 'a. (成对的事物)后面的，在后的',\n 'disguise': 'v. n. 掩饰; 伪装',\n 'land': 'n. 陆地,地面,地界,土地,国土,地产vi. 登陆,登岸,到达vt. 使上岸,使',\n 'dwelling': 'n. 住处',\n 'functional': 'a. 功能的',\n 'extinct': 'a. 熄灭的,灭绝的,耗尽的',\n 'marine': 'n. 舰队,水兵,海运业a. 海的,海产的,海运的,船舶的,海底的',\n 'fossil': 'n. 化石; a. 陈腐的; 化石的',\n 'gap': 'n. 缝隙,缺口,间断vt. 打开缺口,造成缝隙vi. 豁开n. 间距n. 通用',\n 'mammal': 'n. 哺乳动物',\n 'recently': 'ad. 最近',\n 'mammals': 'n. 哺乳动物',\n 'ancient': 'a. 古代的; 古老的',\n 'complete': 'a. 完全的,熟练的,完成的vt. 完成,完工,使圆满',\n 'skull': 'n. 颅骨，头脑',\n 'precious': 'a. 宝贵的,珍贵的,过于精致的,珍爱的',\n 'space': 'n. 空地; 空间; 太空; v. 隔开',\n 'sound': 'v. 似乎; a. 可靠的; 健康的; 合理的',\n 'adaptation': 'n. 改编,适应,改编成的作品',\n 'shallow': 'a. 浅的',\n 'major': 'n. 主修课,成年人,陆军少校a. 主要的,较多的,严重的,成年的vi. 主修',\n 'desert': 'n. 沙漠a. 沙漠的,不毛的vt. 放弃,遗弃,逃跑vi. 逃掉n. 应得的赏',\n 'tiny': 'a. 很少的,微小的',\n 'even': 'a. 平坦的,偶数的,相等的,均匀的,连贯的,均等的,公平的,荹玫?平静的,',\n 'portion': 'n. 部分,一份,命运,嫁妆vt. 将. . . 分配,分配,给. . . 嫁妆',\n 'long': 'a. 长的,长久的,冗长的,做多头的vi. 渴望,热望,极想ad. 长久,始终n.',\n 'means': 'n. 方法,手段,收入,财产,工具',\n 'locomotion': 'n. 移动; 运动',\n 'rear': 'n. 后部; 臀部; v. 养育; 饲养',\n 'constitute': 'vt. 构成,组成,任命'}"
     },
     "execution_count": 35,
     "metadata": {},
     "output_type": "execute_result"
    }
   ],
   "source": [
    "TOEFL = {}\n",
    "\n",
    "# For each paragraph in the document\n",
    "for para in doc.paragraphs:\n",
    "    # For each run in the paragraph\n",
    "    for run in para.runs:\n",
    "        # Only consider runs that are not red\n",
    "        if run.font.color.rgb != RGBColor(255,0,0):\n",
    "            # Check each word in the run\n",
    "            for word in run.text.split():\n",
    "                # If the word (in lowercase) is in the list of words\n",
    "                if word.lower() in words_list:\n",
    "                    print(df[df.Word == word.lower()].Chinese.values)\n",
    "                    TOEFL[word.lower()] = df[df.Word == word.lower()]['Chinese'].values[0]\n",
    "\n",
    "TOEFL"
   ],
   "metadata": {
    "collapsed": false
   }
  },
  {
   "cell_type": "code",
   "execution_count": 10,
   "outputs": [],
   "source": [
    "def extract_bold_sentences(docx_file):\n",
    "    bold_sentences = []\n",
    "    doc = Document(docx_file)\n",
    "\n",
    "    for paragraph in doc.paragraphs:\n",
    "        text = paragraph.text.strip()\n",
    "        if text:\n",
    "            for run in paragraph.runs:\n",
    "                if run.bold:\n",
    "                    bold_sentences.append(text)\n",
    "                    break\n",
    "\n",
    "    return bold_sentences\n"
   ],
   "metadata": {
    "collapsed": false
   }
  },
  {
   "cell_type": "code",
   "execution_count": 11,
   "outputs": [
    {
     "name": "stdout",
     "output_type": "stream",
     "text": [
      "含有加粗单词的句子：\n",
      "It should be obvious that cetaceans-whales, porpoises, and dolphins-are mammals. They breathe through lungs, not through gills, and give birth to live young. Their streamlined bodies, the absence of hind legs, and the presence of a fluke1 and blowhole2 cannot disguise their affinities with land dwelling mammals. However, unlike the cases of sea otters and pinnipeds (seals, sea lions, and walruses, whose limbs are functional both on land and at sea), it is not easy to envision what the first whales looked like. Extinct but already fully marine cetaceans are known from the fossil record. How was the gap between a walking mammal and a swimming whale bridged? Missing until recently were fossils clearly intermediate, or transitional, between land mammals and cetaceans.\n",
      "The fossil consists of a complete skull of an archaeocyte, an extinct group of ancestors of modern cetaceans. Although limited to a skull, the Pakicetus fossil provides precious details on the origins of cetaceans. The skull is cetacean-like but its jawbones lack the enlarged space that is filled with fat or oil and used for receiving underwater sound in modern whales. Pakicetus probably detected sound through the ear opening as in land mammals. The skull also lacks a blowhole, another cetacean adaptation for diving. Other features, however, show experts that Pakicetus is a transitional form between a group of extinct flesh- eating mammals, the mesonychids, and cetaceans. It has been suggested that Pakicetus fed on fish in shallow water and was not yet adapted for life in the open ocean. It probably bred and gave birth on land.\n"
     ]
    }
   ],
   "source": [
    "docx_file = \"The Origins of Cetaceans.docx\"\n",
    "bold_sentences = extract_bold_sentences(docx_file)\n",
    "\n",
    "print(\"含有加粗单词的句子：\")\n",
    "for sentence in bold_sentences:\n",
    "    print(sentence)"
   ],
   "metadata": {
    "collapsed": false
   }
  },
  {
   "cell_type": "code",
   "execution_count": 23,
   "outputs": [],
   "source": [
    "# 打开一个文件，如果不存在则创建\n",
    "with open('output.md', 'w', encoding='utf-8') as f:\n",
    "    # 写入markdown表格头\n",
    "    f.write('| English | Chinese |\\n')\n",
    "    f.write('|---------|---------|\\n')\n",
    "\n",
    "    # 遍历字典，写入每一行内容\n",
    "    for key, value in TOEFL.items():\n",
    "        f.write(f'| {key} | {value} |\\n')"
   ],
   "metadata": {
    "collapsed": false
   }
  },
  {
   "cell_type": "code",
   "execution_count": null,
   "outputs": [],
   "source": [],
   "metadata": {
    "collapsed": false
   }
  }
 ],
 "metadata": {
  "kernelspec": {
   "display_name": "Python 3",
   "language": "python",
   "name": "python3"
  },
  "language_info": {
   "codemirror_mode": {
    "name": "ipython",
    "version": 2
   },
   "file_extension": ".py",
   "mimetype": "text/x-python",
   "name": "python",
   "nbconvert_exporter": "python",
   "pygments_lexer": "ipython2",
   "version": "2.7.6"
  }
 },
 "nbformat": 4,
 "nbformat_minor": 0
}
